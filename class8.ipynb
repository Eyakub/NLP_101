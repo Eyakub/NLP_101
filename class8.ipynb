{
  "nbformat": 4,
  "nbformat_minor": 0,
  "metadata": {
    "colab": {
      "provenance": [],
      "authorship_tag": "ABX9TyNxkM+ZdQceWKhjTuB0ISjL",
      "include_colab_link": true
    },
    "kernelspec": {
      "name": "python3",
      "display_name": "Python 3"
    },
    "language_info": {
      "name": "python"
    }
  },
  "cells": [
    {
      "cell_type": "markdown",
      "metadata": {
        "id": "view-in-github",
        "colab_type": "text"
      },
      "source": [
        "<a href=\"https://colab.research.google.com/github/Eyakub/NLP_101/blob/master/class8.ipynb\" target=\"_parent\"><img src=\"https://colab.research.google.com/assets/colab-badge.svg\" alt=\"Open In Colab\"/></a>"
      ]
    },
    {
      "cell_type": "code",
      "execution_count": 12,
      "metadata": {
        "colab": {
          "base_uri": "https://localhost:8080/"
        },
        "id": "Ts-UsihCdUI_",
        "outputId": "c2f2441c-4491-480d-aac1-953b3de6c699"
      },
      "outputs": [
        {
          "output_type": "stream",
          "name": "stderr",
          "text": [
            "[nltk_data] Downloading package punkt_tab to /root/nltk_data...\n",
            "[nltk_data]   Package punkt_tab is already up-to-date!\n"
          ]
        },
        {
          "output_type": "execute_result",
          "data": {
            "text/plain": [
              "True"
            ]
          },
          "metadata": {},
          "execution_count": 12
        }
      ],
      "source": [
        "import nltk\n",
        "from nltk.tokenize import sent_tokenize, word_tokenize\n",
        "nltk.download('punkt_tab')"
      ]
    },
    {
      "cell_type": "code",
      "source": [
        "text = \"The weather is nice today. I feel like enjoying it with a cup of tea. It's a pleasant morning.\""
      ],
      "metadata": {
        "id": "FPAmwzrTdbcs"
      },
      "execution_count": 4,
      "outputs": []
    },
    {
      "cell_type": "code",
      "source": [
        "sentences = sent_tokenize(text)\n",
        "print(sentences)\n",
        "for i, sentence in enumerate(sentences):\n",
        "  print(f\"Line {i+1}: {sentence}\")"
      ],
      "metadata": {
        "colab": {
          "base_uri": "https://localhost:8080/"
        },
        "id": "UDepQW7pdvQ2",
        "outputId": "56055d6d-5133-437c-b7bc-49c1c245d302"
      },
      "execution_count": 9,
      "outputs": [
        {
          "output_type": "stream",
          "name": "stdout",
          "text": [
            "['The weather is nice today.', 'I feel like enjoying it with a cup of tea.', \"It's a pleasant morning.\"]\n",
            "Line 1: The weather is nice today.\n",
            "Line 2: I feel like enjoying it with a cup of tea.\n",
            "Line 3: It's a pleasant morning.\n"
          ]
        }
      ]
    },
    {
      "cell_type": "code",
      "source": [
        "# @title Punct and special char\n",
        "import re\n",
        "text = \"Hello! Check out my website: http://example.com. It's awesome! #excited @user $100.\"\n",
        "\n",
        "url_pattern = r'http[s]?://(?:[a-zA-Z]|[0-9]|[$-_@.&+]|[!*\\\\(\\\\),]|(?:%[0-9a-fA-F][0-9a-fA-F]))+'\n",
        "punctuation_pattern = r'[^\\w\\s]'\n",
        "\n",
        "text = re.sub(url_pattern, '', text)\n",
        "text = re.sub(punctuation_pattern, '', text)\n",
        "\n",
        "tokens = word_tokenize(text)\n",
        "\n",
        "print(tokens)\n",
        "print(text)"
      ],
      "metadata": {
        "colab": {
          "base_uri": "https://localhost:8080/"
        },
        "id": "n02B--vZdxab",
        "outputId": "75e1d0ea-5973-42fe-e503-69b6654434fc"
      },
      "execution_count": 13,
      "outputs": [
        {
          "output_type": "stream",
          "name": "stdout",
          "text": [
            "['Hello', 'Check', 'out', 'my', 'website', 'Its', 'awesome', 'excited', 'user', '100']\n",
            "Hello Check out my website  Its awesome excited user 100\n"
          ]
        }
      ]
    },
    {
      "cell_type": "code",
      "source": [
        "# @title At lower case\n",
        "text = text.lower()\n",
        "print(text)"
      ],
      "metadata": {
        "colab": {
          "base_uri": "https://localhost:8080/"
        },
        "id": "ExzmWTnBeqnR",
        "outputId": "e763ebc9-27a0-4ab7-eb11-abb6ca60de5c"
      },
      "execution_count": 16,
      "outputs": [
        {
          "output_type": "stream",
          "name": "stdout",
          "text": [
            "hello check out my website  its awesome excited user 100\n"
          ]
        }
      ]
    },
    {
      "cell_type": "code",
      "source": [
        "# @title AR Tokenization\n",
        "# @markdown as these symbols doesn't have use we need to Punct and special character\n",
        "\n",
        "text = \"Hello! Check out my website: http://example.com. It's awesome! #excited @user $100.\"\n",
        "tokens = word_tokenize(text)\n",
        "print(tokens)"
      ],
      "metadata": {
        "colab": {
          "base_uri": "https://localhost:8080/"
        },
        "id": "MI8HGNv-f_XG",
        "outputId": "0f869d8d-3777-4d35-cf27-c3cd49f3a938"
      },
      "execution_count": 20,
      "outputs": [
        {
          "output_type": "stream",
          "name": "stdout",
          "text": [
            "['Hello', '!', 'Check', 'out', 'my', 'website', ':', 'http', ':', '//example.com', '.', 'It', \"'s\", 'awesome', '!', '#', 'excited', '@', 'user', '$', '100', '.']\n"
          ]
        }
      ]
    },
    {
      "cell_type": "code",
      "source": [
        "# @title POS tagging means parts of speach\n",
        "import nltk\n",
        "from nltk.tokenize import word_tokenize\n",
        "from nltk.tag import pos_tag\n",
        "nltk.download('averaged_perceptron_tagger_eng')\n"
      ],
      "metadata": {
        "colab": {
          "base_uri": "https://localhost:8080/"
        },
        "id": "f-F-EIY8gMfR",
        "outputId": "222e8d5b-582d-4d1e-b08b-9e4ba0ca0dc9"
      },
      "execution_count": 22,
      "outputs": [
        {
          "output_type": "stream",
          "name": "stderr",
          "text": [
            "[nltk_data] Downloading package averaged_perceptron_tagger_eng to\n",
            "[nltk_data]     /root/nltk_data...\n",
            "[nltk_data]   Unzipping taggers/averaged_perceptron_tagger_eng.zip.\n"
          ]
        },
        {
          "output_type": "execute_result",
          "data": {
            "text/plain": [
              "True"
            ]
          },
          "metadata": {},
          "execution_count": 22
        }
      ]
    },
    {
      "cell_type": "code",
      "source": [
        "text = \"the brown quick fox jumped over the lazy dog.\"\n",
        "tokens = word_tokenize(text)\n",
        "print(tokens)\n",
        "pos_tags = pos_tag(tokens)\n",
        "print(pos_tags)"
      ],
      "metadata": {
        "colab": {
          "base_uri": "https://localhost:8080/"
        },
        "id": "lP8me4-SgxRx",
        "outputId": "32d6b011-fe70-4c03-9734-df7e8e23f404"
      },
      "execution_count": 23,
      "outputs": [
        {
          "output_type": "stream",
          "name": "stdout",
          "text": [
            "['the', 'brown', 'quick', 'fox', 'jumped', 'over', 'the', 'lazy', 'dog', '.']\n",
            "[('the', 'DT'), ('brown', 'JJ'), ('quick', 'JJ'), ('fox', 'NN'), ('jumped', 'VBD'), ('over', 'IN'), ('the', 'DT'), ('lazy', 'JJ'), ('dog', 'NN'), ('.', '.')]\n"
          ]
        }
      ]
    },
    {
      "cell_type": "code",
      "source": [
        "# @title Stopwords removal\n",
        "from nltk.corpus import stopwords\n",
        "from nltk.tokenize import word_tokenize\n",
        "nltk.download('stopwords')"
      ],
      "metadata": {
        "colab": {
          "base_uri": "https://localhost:8080/"
        },
        "id": "BL9svynBhZe5",
        "outputId": "9661ca0a-46ea-425d-9a0d-aa0a8bbceae6"
      },
      "execution_count": 24,
      "outputs": [
        {
          "output_type": "stream",
          "name": "stderr",
          "text": [
            "[nltk_data] Downloading package stopwords to /root/nltk_data...\n",
            "[nltk_data]   Unzipping corpora/stopwords.zip.\n"
          ]
        },
        {
          "output_type": "execute_result",
          "data": {
            "text/plain": [
              "True"
            ]
          },
          "metadata": {},
          "execution_count": 24
        }
      ]
    },
    {
      "cell_type": "code",
      "source": [
        "sentence = \"The weather is very nice\"\n",
        "tokens = word_tokenize(sentence)\n",
        "stop_words = set(stopwords.words('english'))\n",
        "filtered_tokens = [token for token in tokens if token.lower() not in stop_words]\n",
        "filtered_sentence = ' '.join(filtered_tokens)\n",
        "print(filtered_sentence)"
      ],
      "metadata": {
        "colab": {
          "base_uri": "https://localhost:8080/"
        },
        "id": "j915z69YiAz3",
        "outputId": "5780c63c-e50d-4a1f-828a-11e791af5776"
      },
      "execution_count": 26,
      "outputs": [
        {
          "output_type": "stream",
          "name": "stdout",
          "text": [
            "weather nice\n"
          ]
        }
      ]
    },
    {
      "cell_type": "code",
      "source": [
        "# @title Text normalize\n",
        "import re\n",
        "from nltk.tokenize import word_tokenize"
      ],
      "metadata": {
        "id": "kZp5b6w5irMN"
      },
      "execution_count": 27,
      "outputs": []
    },
    {
      "cell_type": "code",
      "source": [
        "text = \"I loveeeee this! Do you luv it too?\"\n",
        "\n",
        "def normalize(text):\n",
        "  text = text.lower()\n",
        "  text = re.sub(r'(.)\\1+', r'\\1', text) # removing multiple character which is repeated like loveee\n",
        "  text = re.sub(r'\\bluv\\b', 'love', text) # luv => love\n",
        "  return text\n",
        "\n",
        "print(normalize(text))"
      ],
      "metadata": {
        "colab": {
          "base_uri": "https://localhost:8080/"
        },
        "id": "kD1sQwfFixPW",
        "outputId": "f6bd9ff5-8ca9-4835-c10c-c991ac40e9e5"
      },
      "execution_count": 30,
      "outputs": [
        {
          "output_type": "stream",
          "name": "stdout",
          "text": [
            "i love this! do you love it to?\n"
          ]
        }
      ]
    },
    {
      "cell_type": "code",
      "source": [
        "# @title Lemmatization and stemming\n",
        "# @markdown This is mostly used for search type of works\n",
        "import nltk\n",
        "from nltk.tokenize import word_tokenize\n",
        "from nltk.stem import PorterStemmer"
      ],
      "metadata": {
        "id": "JyUkrpcEjX33"
      },
      "execution_count": 31,
      "outputs": []
    },
    {
      "cell_type": "code",
      "source": [
        "text = \"I am running in the park and feeling troubled\"\n",
        "tokens = word_tokenize(text)\n",
        "print(\"Tokens: \", tokens)\n",
        "stemmer = PorterStemmer()\n",
        "stemmed_tokens = [stemmer.stem(token) for token in tokens]\n",
        "stemmed_text = ' '.join(stemmed_tokens)\n",
        "print(\"Stemmed tokens: \", stemmed_text)"
      ],
      "metadata": {
        "colab": {
          "base_uri": "https://localhost:8080/"
        },
        "id": "MbuFlUBWkNc0",
        "outputId": "a7485f8c-26aa-45f9-ab22-08c4905247bc"
      },
      "execution_count": 32,
      "outputs": [
        {
          "output_type": "stream",
          "name": "stdout",
          "text": [
            "Tokens:  ['I', 'am', 'running', 'in', 'the', 'park', 'and', 'feeling', 'troubled']\n",
            "Stemmed tokens:  i am run in the park and feel troubl\n"
          ]
        }
      ]
    },
    {
      "cell_type": "code",
      "source": [
        "import spacy\n",
        "nlp = spacy.load('en_core_web_sm')\n",
        "text = \"I am running in the park and feeling troubled\"\n",
        "# text = \"I have a great movie that e can actually watch all day long with friends and family at night having pop corns.\"\n",
        "doc = nlp(text)\n",
        "lemmatized_tokens = [token.lemma_ for token in doc]\n",
        "lemmatized_text = ' '.join(lemmatized_tokens)\n",
        "print(\"stemmed_text: \", stemmed_text)\n",
        "print(\"Lemmatized text: \", lemmatized_text)"
      ],
      "metadata": {
        "colab": {
          "base_uri": "https://localhost:8080/"
        },
        "id": "QTYYx9XVkdz3",
        "outputId": "7da20aa6-a1ad-43f3-d2d4-ecbb6bc6be51"
      },
      "execution_count": 35,
      "outputs": [
        {
          "output_type": "stream",
          "name": "stdout",
          "text": [
            "stemmed_text:  i am run in the park and feel troubl\n",
            "Lemmatized text:  I be run in the park and feel troubled\n"
          ]
        }
      ]
    },
    {
      "cell_type": "code",
      "source": [],
      "metadata": {
        "id": "cAFyiRCukyX9"
      },
      "execution_count": null,
      "outputs": []
    }
  ]
}